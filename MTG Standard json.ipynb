{
 "cells": [
  {
   "cell_type": "markdown",
   "metadata": {},
   "source": [
    "## MTG Standard Cards"
   ]
  },
  {
   "cell_type": "markdown",
   "metadata": {},
   "source": [
    "### 'Gather' data from MTG JSON"
   ]
  },
  {
   "cell_type": "code",
   "execution_count": 1,
   "metadata": {},
   "outputs": [
    {
     "name": "stdout",
     "output_type": "stream",
     "text": [
      "200\n"
     ]
    }
   ],
   "source": [
    "#import packages\n",
    "import pandas as pd\n",
    "import requests as re\n",
    "#load json from url\n",
    "mtgjson = re.get('https://mtgjson.com/api/v5/Standard.json')\n",
    "#check connection\n",
    "print(mtgjson.status_code)"
   ]
  },
  {
   "cell_type": "markdown",
   "metadata": {},
   "source": [
    "### 'Draw' cards by set"
   ]
  },
  {
   "cell_type": "code",
   "execution_count": 45,
   "metadata": {},
   "outputs": [],
   "source": [
    "#convert to dict\n",
    "mtgjson_d = mtgjson.json()\n",
    "#convert from dict to df\n",
    "sets = pd.DataFrame(mtgjson_d)\n",
    "#clean to exclude metadata - should only be one field 'data' containing all card information for each set\n",
    "sets = sets.iloc[2:,[1]].copy()\n",
    "#\n",
    "#extract data for each set\n",
    "#the structure of the json dicts is: {'data' : {'set' : {'cards': {x}}}}\n",
    "#want cards, list of dicts\n",
    "#Ex. eld = sets['data'][0]['cards']\n",
    "#\n",
    "def cards_data(dict):\n",
    "    return dict['cards']\n",
    "#organize all cards data as list of dicts in a table indexed by set\n",
    "sets['cards'] = sets.apply(lambda x : cards_data(x['data']), axis= 1)\n",
    "sets = sets[['cards']].copy()"
   ]
  },
  {
   "cell_type": "markdown",
   "metadata": {},
   "source": [
    "### 'Summon' attributes for each card and combine all cards in tabular form"
   ]
  },
  {
   "cell_type": "code",
   "execution_count": 60,
   "metadata": {},
   "outputs": [],
   "source": [
    "#extract card attributes for each card in the set\n",
    "#combine them later in tabular form\n",
    "def list_by_set(list_of_dicts, key_name):\n",
    "    target_list = []\n",
    "    for d in list_of_dicts:\n",
    "        if key_name in d.keys():\n",
    "            target_list.append(d[key_name])\n",
    "        else:\n",
    "        #fill in missing information with blanks (keep same number of records)\n",
    "            target_list.append('')\n",
    "    return target_list\n",
    "#\n",
    "standard_cards = pd.DataFrame()\n",
    "#\n",
    "for i in range(len(sets['cards'])):\n",
    "    current_set = sets.index[i]\n",
    "    all_attributes_set = sets['cards'][i]\n",
    "    #extract list of attributes for all cards in set\n",
    "    i_names = list_by_set(all_attributes_set, 'name')\n",
    "    i_colors = list_by_set(all_attributes_set, 'colors')\n",
    "    i_colorid = list_by_set(all_attributes_set, 'colorIdentity')\n",
    "    i_type = list_by_set(all_attributes_set, 'types')\n",
    "    i_subtype = list_by_set(all_attributes_set, 'subtypes')\n",
    "    i_text = list_by_set(all_attributes_set, 'text')\n",
    "    i_power = list_by_set(all_attributes_set, 'power')\n",
    "    i_toughness = list_by_set(all_attributes_set, 'toughness')\n",
    "    i_cmc = list_by_set(all_attributes_set, 'convertedManaCost')\n",
    "    i_rarity = list_by_set(all_attributes_set, 'rarity')\n",
    "    i_printings = list_by_set(all_attributes_set, 'printings')\n",
    "    i_keywords = list_by_set(all_attributes_set, 'keywords')\n",
    "    i_layout = list_by_set(all_attributes_set, 'layout')\n",
    "    i_side = list_by_set(all_attributes_set, 'side')\n",
    "    #\n",
    "    #set up pandas DataFrame\n",
    "    #combine all lists of attributes into list (of lists)\n",
    "    list_of_attributes = [i_names, i_colors, i_colorid, i_type, i_subtype, i_text, i_power, i_toughness, i_cmc, i_rarity, i_printings, i_keywords, i_layout, i_side]  \n",
    "    #zip attributes with field names before converting to DataFrame\n",
    "    dict_for_df = dict(zip(['Name', 'Color', 'ColorID', 'Type', 'Subtype', 'Text', 'Power', 'Toughness', 'CMC', 'Rarity', 'Printings', 'Keywords', 'Layout', 'Side'], list_of_attributes))\n",
    "    #convert dict to DataFrame\n",
    "    set_cards = pd.DataFrame(dict_for_df)\n",
    "    set_cards['Set'] = current_set = sets.index[i]\n",
    "    #\n",
    "    standard_cards = standard_cards.append(set_cards)\n",
    "    #\n",
    "standard_cards = standard_cards.reset_index().drop(columns= 'index')"
   ]
  },
  {
   "cell_type": "markdown",
   "metadata": {},
   "source": [
    "### Prettify table and output as .csv file"
   ]
  },
  {
   "cell_type": "code",
   "execution_count": 67,
   "metadata": {},
   "outputs": [],
   "source": [
    "standard_cards['Name'] = standard_cards['Name'].astype('str')\n",
    "standard_cards['Type'] = standard_cards['Type'].astype('str').str.strip(\"[]\").str.replace(\"'\", \"\")\n",
    "standard_cards['Subtype'] = standard_cards['Subtype'].astype('str').str.strip(\"[]\").str.replace(\"'\", \"\")\n",
    "standard_cards['Color'] = standard_cards['Color'].astype('str').str.strip(\"[]\").str.replace(\"'\", \"\")\n",
    "standard_cards['ColorID'] = standard_cards['ColorID'].astype('str').str.strip(\"[]\").str.replace(\"'\", \"\")\n",
    "standard_cards['CMC'] = standard_cards['CMC'].astype('int64')\n",
    "standard_cards['Rarity'] = standard_cards['Rarity'].astype('str').str.capitalize()\n",
    "standard_cards['Printings'] = standard_cards['Printings'].astype('str').str.strip(\"[]\").str.replace(\"'\", \"\")\n",
    "standard_cards['Keywords'] = standard_cards['Keywords'].astype('str').str.strip(\"[]\").str.replace(\"'\", \"\")\n",
    "standard_cards['Layout'] = standard_cards['Layout'].astype('str').str.capitalize()\n",
    "#\n",
    "standard_cards = standard_cards[['Name', 'Set', 'Color', 'ColorID', 'Type', 'Subtype', 'CMC', 'Rarity', 'Text', 'Keywords', 'Power', 'Toughness', 'Printings', 'Layout', 'Side']]\n",
    "standard_cards.to_csv('mtg_standard_cards.csv', index= False)"
   ]
  }
 ],
 "metadata": {
  "kernelspec": {
   "display_name": "Python 3",
   "language": "python",
   "name": "python3"
  },
  "language_info": {
   "codemirror_mode": {
    "name": "ipython",
    "version": 3
   },
   "file_extension": ".py",
   "mimetype": "text/x-python",
   "name": "python",
   "nbconvert_exporter": "python",
   "pygments_lexer": "ipython3",
   "version": "3.7.6"
  }
 },
 "nbformat": 4,
 "nbformat_minor": 4
}
